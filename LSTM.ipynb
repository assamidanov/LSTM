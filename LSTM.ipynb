{
  "nbformat": 4,
  "nbformat_minor": 0,
  "metadata": {
    "colab": {
      "name": "LSTM.ipynb",
      "provenance": []
    },
    "kernelspec": {
      "name": "python3",
      "display_name": "Python 3"
    },
    "language_info": {
      "name": "python"
    }
  },
  "cells": [
    {
      "cell_type": "markdown",
      "metadata": {
        "id": "0iv850x6II5Y"
      },
      "source": [
        "# The LSTM model\n",
        "The following demo are mainly cited from [Serafeim Loukas' work](https://towardsdatascience.com/time-series-forecasting-predicting-stock-prices-using-an-lstm-model-d0056cd5e055). "
      ]
    },
    {
      "cell_type": "markdown",
      "metadata": {
        "id": "xDlsO_sxJrEy"
      },
      "source": [
        "**Getting the stock price history data**\n",
        "\n",
        "We use Yahoo website to get the stock price history of Apple.The data are from 2015 till 2020.\n",
        "\n",
        "\n",
        "# Python working libraries\n",
        "*libraries needed: Keras, Tensorflow, Pandas, Scikit-Learn & Numpy*\n",
        "\n",
        "We are going to train a multi-layer LSTM RNN model to predict the last value of a sequence of values of the APPLE stock price in this Demo.\n",
        "Let’s load the data and exlpore them:"
      ]
    },
    {
      "cell_type": "code",
      "metadata": {
        "id": "beedOxXzIIaW"
      },
      "source": [
        "import pandas as pd\n",
        "url = 'https://raw.githubusercontent.com/assamidanov/LSTM/main/WMT-2-1.csv'\n",
        "df = pd.read_csv(url, error_bad_lines=False)"
      ],
      "execution_count": null,
      "outputs": []
    },
    {
      "cell_type": "code",
      "metadata": {
        "colab": {
          "base_uri": "https://localhost:8080/",
          "height": 221
        },
        "id": "mhn_UoAfH5ya",
        "outputId": "28fef141-1e9f-4888-aacd-d75a1665a489"
      },
      "source": [
        "import math\n",
        "import matplotlib.pyplot as plt\n",
        "import keras\n",
        "import pandas as pd\n",
        "import numpy as np\n",
        "from keras.models import Sequential\n",
        "from keras.layers import Dense\n",
        "from keras.layers import LSTM\n",
        "from keras.layers import Dropout\n",
        "from keras.layers import *\n",
        "from sklearn.preprocessing import MinMaxScaler\n",
        "from sklearn.metrics import mean_squared_error\n",
        "from sklearn.metrics import mean_absolute_error\n",
        "from sklearn.model_selection import train_test_split\n",
        "from keras.callbacks import EarlyStopping\n",
        "print(\"Number of rows and columns:\", df.shape)\n",
        "df.head(5)"
      ],
      "execution_count": null,
      "outputs": [
        {
          "output_type": "stream",
          "name": "stdout",
          "text": [
            "Number of rows and columns: (1510, 7)\n"
          ]
        },
        {
          "output_type": "execute_result",
          "data": {
            "text/html": [
              "<div>\n",
              "<style scoped>\n",
              "    .dataframe tbody tr th:only-of-type {\n",
              "        vertical-align: middle;\n",
              "    }\n",
              "\n",
              "    .dataframe tbody tr th {\n",
              "        vertical-align: top;\n",
              "    }\n",
              "\n",
              "    .dataframe thead th {\n",
              "        text-align: right;\n",
              "    }\n",
              "</style>\n",
              "<table border=\"1\" class=\"dataframe\">\n",
              "  <thead>\n",
              "    <tr style=\"text-align: right;\">\n",
              "      <th></th>\n",
              "      <th>Date</th>\n",
              "      <th>Open</th>\n",
              "      <th>High</th>\n",
              "      <th>Low</th>\n",
              "      <th>Close</th>\n",
              "      <th>Adj Close</th>\n",
              "      <th>Volume</th>\n",
              "    </tr>\n",
              "  </thead>\n",
              "  <tbody>\n",
              "    <tr>\n",
              "      <th>0</th>\n",
              "      <td>2015-11-30</td>\n",
              "      <td>59.869999</td>\n",
              "      <td>60.060001</td>\n",
              "      <td>58.730000</td>\n",
              "      <td>58.840000</td>\n",
              "      <td>51.444878</td>\n",
              "      <td>14942600</td>\n",
              "    </tr>\n",
              "    <tr>\n",
              "      <th>1</th>\n",
              "      <td>2015-12-01</td>\n",
              "      <td>59.130001</td>\n",
              "      <td>59.290001</td>\n",
              "      <td>58.650002</td>\n",
              "      <td>58.990002</td>\n",
              "      <td>51.576015</td>\n",
              "      <td>12204100</td>\n",
              "    </tr>\n",
              "    <tr>\n",
              "      <th>2</th>\n",
              "      <td>2015-12-02</td>\n",
              "      <td>58.610001</td>\n",
              "      <td>59.290001</td>\n",
              "      <td>58.320000</td>\n",
              "      <td>58.349998</td>\n",
              "      <td>51.443775</td>\n",
              "      <td>13586900</td>\n",
              "    </tr>\n",
              "    <tr>\n",
              "      <th>3</th>\n",
              "      <td>2015-12-03</td>\n",
              "      <td>58.689999</td>\n",
              "      <td>59.660000</td>\n",
              "      <td>58.599998</td>\n",
              "      <td>59.040001</td>\n",
              "      <td>52.052105</td>\n",
              "      <td>15844100</td>\n",
              "    </tr>\n",
              "    <tr>\n",
              "      <th>4</th>\n",
              "      <td>2015-12-04</td>\n",
              "      <td>59.049999</td>\n",
              "      <td>59.849998</td>\n",
              "      <td>59.029999</td>\n",
              "      <td>59.660000</td>\n",
              "      <td>52.598724</td>\n",
              "      <td>10435300</td>\n",
              "    </tr>\n",
              "  </tbody>\n",
              "</table>\n",
              "</div>"
            ],
            "text/plain": [
              "         Date       Open       High        Low      Close  Adj Close    Volume\n",
              "0  2015-11-30  59.869999  60.060001  58.730000  58.840000  51.444878  14942600\n",
              "1  2015-12-01  59.130001  59.290001  58.650002  58.990002  51.576015  12204100\n",
              "2  2015-12-02  58.610001  59.290001  58.320000  58.349998  51.443775  13586900\n",
              "3  2015-12-03  58.689999  59.660000  58.599998  59.040001  52.052105  15844100\n",
              "4  2015-12-04  59.049999  59.849998  59.029999  59.660000  52.598724  10435300"
            ]
          },
          "metadata": {},
          "execution_count": 5
        }
      ]
    },
    {
      "cell_type": "code",
      "metadata": {
        "id": "myQ7fz3cg_Vt"
      },
      "source": [
        ""
      ],
      "execution_count": null,
      "outputs": []
    },
    {
      "cell_type": "markdown",
      "metadata": {
        "id": "DsWiHjGIS2XK"
      },
      "source": [
        "The next step is to split the data into training and test sets to avoid overfitting and to be able to generalize our model.\n",
        "\n",
        "The output value will be the “Close” stock price value.\n"
      ]
    },
    {
      "cell_type": "code",
      "metadata": {
        "id": "OocnsQD3JdcT"
      },
      "source": [
        "training_set = df.iloc[:1282, 4:5].values\n",
        "test_set = df.iloc[1282:, 4:5].values"
      ],
      "execution_count": null,
      "outputs": []
    },
    {
      "cell_type": "markdown",
      "metadata": {
        "id": "Ne7-NFU3S1zO"
      },
      "source": [
        "It would be better to normalize the data before model fitting. This will boost the performance. \n",
        "\n",
        "We will build the input features with time lag of 1 day (lag 1):\n",
        "\n",
        "\n"
      ]
    },
    {
      "cell_type": "code",
      "metadata": {
        "id": "v7VEgGLdKyik"
      },
      "source": [
        "# Feature Scaling\n",
        "sc = MinMaxScaler(feature_range = (0, 1))\n",
        "training_set_scaled = sc.fit_transform(training_set)\n",
        "# Creating a data structure with 60 time-steps and 1 output\n",
        "X_train = []\n",
        "y_train = []\n",
        "for i in range(60, 1282):\n",
        "    X_train.append(training_set_scaled[i-60:i, 0])\n",
        "    y_train.append(training_set_scaled[i, 0])\n",
        "X_train, y_train = np.array(X_train), np.array(y_train)\n",
        "X_train = np.reshape(X_train, (X_train.shape[0], X_train.shape[1], 1))\n",
        "#(1272, 60, 1)"
      ],
      "execution_count": null,
      "outputs": []
    },
    {
      "cell_type": "markdown",
      "metadata": {
        "id": "rokwBOcNTpm4"
      },
      "source": [
        "The format of the input data goes in this way: #values, #time-steps, #1 dimensional output.\n",
        "\n",
        "Let's start building the model. LSTM model will have 50 neurons and 4 hidden layers. \n",
        "\n",
        "Finally, we will assign 1 neuron in the output layer for predicting the normalized stock price. We will use the MSE loss function and the Adam stochastic gradient descent optimizer.\n",
        "\n",
        "We need to add return_sequences=True for all LSTM layers except the last one.\n",
        "\n",
        "Setting this flag to True lets Keras know that LSTM output should contain all historical generated outputs along with time stamps (3D). So, next LSTM layer can work further on the data.\n",
        "\n",
        "If this flag is false, then LSTM only returns last output (2D). Such output is not good enough for another LSTM layer.\n",
        "\n",
        "**Note**: The following code will take ~5min.\n"
      ]
    },
    {
      "cell_type": "code",
      "metadata": {
        "colab": {
          "base_uri": "https://localhost:8080/"
        },
        "id": "f13EAkwKK4Bu",
        "outputId": "5a0e517b-afca-4ea9-a522-76c949795b32"
      },
      "source": [
        "model = Sequential()\n",
        "#Adding the first LSTM layer and some Dropout regularisation\n",
        "model.add(LSTM(units = 50, return_sequences = True, input_shape = (X_train.shape[1], 1)))\n",
        "model.add(Dropout(0.2))\n",
        "# Adding a second LSTM layer and some Dropout regularisation\n",
        "model.add(LSTM(units = 50, return_sequences = True))\n",
        "model.add(Dropout(0.2))\n",
        "# Adding a third LSTM layer and some Dropout regularisation\n",
        "model.add(LSTM(units = 50, return_sequences = True))\n",
        "model.add(Dropout(0.2))\n",
        "# Adding a fourth LSTM layer and some Dropout regularisation\n",
        "model.add(LSTM(units = 50))\n",
        "model.add(Dropout(0.2))\n",
        "# Adding the output layer\n",
        "model.add(Dense(units = 1))\n",
        "\n",
        "# Compiling the RNN\n",
        "model.compile(optimizer = 'adam', loss = 'mean_squared_error')\n",
        "\n",
        "# Fitting the RNN to the Training set\n",
        "model.fit(X_train, y_train, epochs = 100, batch_size = 32)"
      ],
      "execution_count": null,
      "outputs": [
        {
          "output_type": "stream",
          "name": "stdout",
          "text": [
            "Epoch 1/100\n",
            "39/39 [==============================] - 12s 131ms/step - loss: 0.0232\n",
            "Epoch 2/100\n",
            "39/39 [==============================] - 5s 132ms/step - loss: 0.0041\n",
            "Epoch 3/100\n",
            "39/39 [==============================] - 5s 128ms/step - loss: 0.0040\n",
            "Epoch 4/100\n",
            "39/39 [==============================] - 5s 128ms/step - loss: 0.0033\n",
            "Epoch 5/100\n",
            "39/39 [==============================] - 5s 126ms/step - loss: 0.0047\n",
            "Epoch 6/100\n",
            "39/39 [==============================] - 5s 130ms/step - loss: 0.0041\n",
            "Epoch 7/100\n",
            "39/39 [==============================] - 5s 128ms/step - loss: 0.0037\n",
            "Epoch 8/100\n",
            "39/39 [==============================] - 5s 131ms/step - loss: 0.0034\n",
            "Epoch 9/100\n",
            "39/39 [==============================] - 5s 131ms/step - loss: 0.0032\n",
            "Epoch 10/100\n",
            "39/39 [==============================] - 5s 129ms/step - loss: 0.0030\n",
            "Epoch 11/100\n",
            "39/39 [==============================] - 5s 130ms/step - loss: 0.0031\n",
            "Epoch 12/100\n",
            "39/39 [==============================] - 5s 128ms/step - loss: 0.0026\n",
            "Epoch 13/100\n",
            "39/39 [==============================] - 5s 128ms/step - loss: 0.0031\n",
            "Epoch 14/100\n",
            "39/39 [==============================] - 5s 130ms/step - loss: 0.0030\n",
            "Epoch 15/100\n",
            "39/39 [==============================] - 5s 129ms/step - loss: 0.0027\n",
            "Epoch 16/100\n",
            "39/39 [==============================] - 5s 127ms/step - loss: 0.0034\n",
            "Epoch 17/100\n",
            "39/39 [==============================] - 5s 131ms/step - loss: 0.0029\n",
            "Epoch 18/100\n",
            "39/39 [==============================] - 5s 128ms/step - loss: 0.0025\n",
            "Epoch 19/100\n",
            "39/39 [==============================] - 5s 129ms/step - loss: 0.0025\n",
            "Epoch 20/100\n",
            "39/39 [==============================] - 5s 129ms/step - loss: 0.0024\n",
            "Epoch 21/100\n",
            "39/39 [==============================] - 5s 130ms/step - loss: 0.0026\n",
            "Epoch 22/100\n",
            "39/39 [==============================] - 5s 131ms/step - loss: 0.0023\n",
            "Epoch 23/100\n",
            "39/39 [==============================] - 5s 129ms/step - loss: 0.0023\n",
            "Epoch 24/100\n",
            "39/39 [==============================] - 5s 131ms/step - loss: 0.0024\n",
            "Epoch 25/100\n",
            "39/39 [==============================] - 5s 128ms/step - loss: 0.0024\n",
            "Epoch 26/100\n",
            "39/39 [==============================] - 5s 130ms/step - loss: 0.0019\n",
            "Epoch 27/100\n",
            "39/39 [==============================] - 5s 128ms/step - loss: 0.0022\n",
            "Epoch 28/100\n",
            "39/39 [==============================] - 5s 127ms/step - loss: 0.0021\n",
            "Epoch 29/100\n",
            "39/39 [==============================] - 5s 131ms/step - loss: 0.0024\n",
            "Epoch 30/100\n",
            "39/39 [==============================] - 5s 132ms/step - loss: 0.0020\n",
            "Epoch 31/100\n",
            "39/39 [==============================] - 5s 131ms/step - loss: 0.0018\n",
            "Epoch 32/100\n",
            "39/39 [==============================] - 5s 136ms/step - loss: 0.0020\n",
            "Epoch 33/100\n",
            "39/39 [==============================] - 5s 134ms/step - loss: 0.0021\n",
            "Epoch 34/100\n",
            "39/39 [==============================] - 5s 132ms/step - loss: 0.0019\n",
            "Epoch 35/100\n",
            "39/39 [==============================] - 5s 130ms/step - loss: 0.0019\n",
            "Epoch 36/100\n",
            "39/39 [==============================] - 5s 131ms/step - loss: 0.0017\n",
            "Epoch 37/100\n",
            "39/39 [==============================] - 5s 130ms/step - loss: 0.0018\n",
            "Epoch 38/100\n",
            "39/39 [==============================] - 5s 129ms/step - loss: 0.0019\n",
            "Epoch 39/100\n",
            "39/39 [==============================] - 5s 127ms/step - loss: 0.0020\n",
            "Epoch 40/100\n",
            "39/39 [==============================] - 5s 130ms/step - loss: 0.0015\n",
            "Epoch 41/100\n",
            "39/39 [==============================] - 5s 129ms/step - loss: 0.0018\n",
            "Epoch 42/100\n",
            "39/39 [==============================] - 5s 129ms/step - loss: 0.0017\n",
            "Epoch 43/100\n",
            "39/39 [==============================] - 5s 131ms/step - loss: 0.0017\n",
            "Epoch 44/100\n",
            "39/39 [==============================] - 5s 130ms/step - loss: 0.0016\n",
            "Epoch 45/100\n",
            "39/39 [==============================] - 5s 129ms/step - loss: 0.0015\n",
            "Epoch 46/100\n",
            "39/39 [==============================] - 5s 128ms/step - loss: 0.0018\n",
            "Epoch 47/100\n",
            "39/39 [==============================] - 6s 143ms/step - loss: 0.0017\n",
            "Epoch 48/100\n",
            "39/39 [==============================] - 5s 130ms/step - loss: 0.0018\n",
            "Epoch 49/100\n",
            "39/39 [==============================] - 5s 131ms/step - loss: 0.0016\n",
            "Epoch 50/100\n",
            "39/39 [==============================] - 5s 131ms/step - loss: 0.0018\n",
            "Epoch 51/100\n",
            "39/39 [==============================] - 5s 130ms/step - loss: 0.0014\n",
            "Epoch 52/100\n",
            "39/39 [==============================] - 5s 131ms/step - loss: 0.0015\n",
            "Epoch 53/100\n",
            "39/39 [==============================] - 5s 136ms/step - loss: 0.0015\n",
            "Epoch 54/100\n",
            "39/39 [==============================] - 5s 134ms/step - loss: 0.0014\n",
            "Epoch 55/100\n",
            "39/39 [==============================] - 6s 146ms/step - loss: 0.0014\n",
            "Epoch 56/100\n",
            "39/39 [==============================] - 6s 146ms/step - loss: 0.0017\n",
            "Epoch 57/100\n",
            "39/39 [==============================] - 5s 135ms/step - loss: 0.0015\n",
            "Epoch 58/100\n",
            "39/39 [==============================] - 5s 131ms/step - loss: 0.0014\n",
            "Epoch 59/100\n",
            "39/39 [==============================] - 5s 134ms/step - loss: 0.0014\n",
            "Epoch 60/100\n",
            "39/39 [==============================] - 5s 132ms/step - loss: 0.0014\n",
            "Epoch 61/100\n",
            "39/39 [==============================] - 5s 132ms/step - loss: 0.0014\n",
            "Epoch 62/100\n",
            "39/39 [==============================] - 5s 131ms/step - loss: 0.0015\n",
            "Epoch 63/100\n",
            "39/39 [==============================] - 5s 132ms/step - loss: 0.0015\n",
            "Epoch 64/100\n",
            "39/39 [==============================] - 5s 134ms/step - loss: 0.0013\n",
            "Epoch 65/100\n",
            "39/39 [==============================] - 5s 132ms/step - loss: 0.0015\n",
            "Epoch 66/100\n",
            "39/39 [==============================] - 5s 134ms/step - loss: 0.0014\n",
            "Epoch 67/100\n",
            "39/39 [==============================] - 5s 133ms/step - loss: 0.0012\n",
            "Epoch 68/100\n",
            "39/39 [==============================] - 5s 135ms/step - loss: 0.0013\n",
            "Epoch 69/100\n",
            "39/39 [==============================] - 5s 136ms/step - loss: 0.0014\n",
            "Epoch 70/100\n",
            "39/39 [==============================] - 6s 146ms/step - loss: 0.0014\n",
            "Epoch 71/100\n",
            "39/39 [==============================] - 6s 141ms/step - loss: 0.0014\n",
            "Epoch 72/100\n",
            "39/39 [==============================] - 5s 137ms/step - loss: 0.0012\n",
            "Epoch 73/100\n",
            "39/39 [==============================] - 5s 133ms/step - loss: 0.0012\n",
            "Epoch 74/100\n",
            "39/39 [==============================] - 5s 135ms/step - loss: 0.0012\n",
            "Epoch 75/100\n",
            "39/39 [==============================] - 6s 141ms/step - loss: 0.0012\n",
            "Epoch 76/100\n",
            "39/39 [==============================] - 5s 135ms/step - loss: 0.0013\n",
            "Epoch 77/100\n",
            "39/39 [==============================] - 5s 136ms/step - loss: 0.0013\n",
            "Epoch 78/100\n",
            "39/39 [==============================] - 6s 144ms/step - loss: 0.0013\n",
            "Epoch 79/100\n",
            "39/39 [==============================] - 6s 151ms/step - loss: 0.0012\n",
            "Epoch 80/100\n",
            "39/39 [==============================] - 5s 136ms/step - loss: 0.0015\n",
            "Epoch 81/100\n",
            "39/39 [==============================] - 5s 134ms/step - loss: 0.0012\n",
            "Epoch 82/100\n",
            "39/39 [==============================] - 5s 136ms/step - loss: 0.0016\n",
            "Epoch 83/100\n",
            "39/39 [==============================] - 5s 137ms/step - loss: 0.0013\n",
            "Epoch 84/100\n",
            "39/39 [==============================] - 5s 139ms/step - loss: 0.0012\n",
            "Epoch 85/100\n",
            "39/39 [==============================] - 6s 160ms/step - loss: 0.0012\n",
            "Epoch 86/100\n",
            "39/39 [==============================] - 6s 166ms/step - loss: 0.0012\n",
            "Epoch 87/100\n",
            "39/39 [==============================] - 6s 148ms/step - loss: 0.0011\n",
            "Epoch 88/100\n",
            "39/39 [==============================] - 5s 138ms/step - loss: 0.0012\n",
            "Epoch 89/100\n",
            "39/39 [==============================] - 6s 143ms/step - loss: 0.0011\n",
            "Epoch 90/100\n",
            "39/39 [==============================] - 6s 147ms/step - loss: 0.0014\n",
            "Epoch 91/100\n",
            "39/39 [==============================] - 6s 164ms/step - loss: 0.0011\n",
            "Epoch 92/100\n",
            "39/39 [==============================] - 6s 151ms/step - loss: 0.0012\n",
            "Epoch 93/100\n",
            "39/39 [==============================] - 5s 140ms/step - loss: 0.0012\n",
            "Epoch 94/100\n",
            "39/39 [==============================] - 6s 142ms/step - loss: 0.0012\n",
            "Epoch 95/100\n",
            "39/39 [==============================] - 5s 133ms/step - loss: 0.0010\n",
            "Epoch 96/100\n",
            "39/39 [==============================] - 5s 135ms/step - loss: 0.0011\n",
            "Epoch 97/100\n",
            "39/39 [==============================] - 6s 141ms/step - loss: 0.0013\n",
            "Epoch 98/100\n",
            "39/39 [==============================] - 5s 138ms/step - loss: 0.0010\n",
            "Epoch 99/100\n",
            "39/39 [==============================] - 6s 144ms/step - loss: 0.0011\n",
            "Epoch 100/100\n",
            "39/39 [==============================] - 6s 142ms/step - loss: 0.0010\n"
          ]
        },
        {
          "output_type": "execute_result",
          "data": {
            "text/plain": [
              "<keras.callbacks.History at 0x7fd2e5476650>"
            ]
          },
          "metadata": {},
          "execution_count": 24
        }
      ]
    },
    {
      "cell_type": "markdown",
      "metadata": {
        "id": "0SS4LXnZT6Vv"
      },
      "source": [
        "Test data:\n"
      ]
    },
    {
      "cell_type": "code",
      "metadata": {
        "colab": {
          "base_uri": "https://localhost:8080/"
        },
        "id": "hV09AubzK5tt",
        "outputId": "64c0a518-e691-41a8-caf1-3ebdd3915fa2"
      },
      "source": [
        "# Getting the predicted stock price of 2017\n",
        "dataset_train = df.iloc[:1282, 1:2]\n",
        "dataset_test = df.iloc[1282:, 1:2]\n",
        "dataset_total = pd.concat((dataset_train, dataset_test), axis = 0)\n",
        "inputs = dataset_total[len(dataset_total) - len(dataset_test) - 60:].values\n",
        "inputs = inputs.reshape(-1,1)\n",
        "inputs = sc.transform(inputs)\n",
        "X_test = []\n",
        "for i in range(60, 288):\n",
        "    X_test.append(inputs[i-60:i, 0])\n",
        "X_test = np.array(X_test)\n",
        "X_test = np.reshape(X_test, (X_test.shape[0], X_test.shape[1], 1))\n",
        "print(X_test.shape)\n",
        "# (459, 60, 1)"
      ],
      "execution_count": null,
      "outputs": [
        {
          "output_type": "stream",
          "name": "stdout",
          "text": [
            "(228, 60, 1)\n"
          ]
        }
      ]
    },
    {
      "cell_type": "markdown",
      "metadata": {
        "id": "6qCr89O1UA-2"
      },
      "source": [
        "**Prediction using test data**\n"
      ]
    },
    {
      "cell_type": "code",
      "metadata": {
        "id": "tDWyZpalLP7D"
      },
      "source": [
        "predicted_stock_price = model.predict(X_test)\n",
        "predicted_stock_price = sc.inverse_transform(predicted_stock_price)"
      ],
      "execution_count": null,
      "outputs": []
    },
    {
      "cell_type": "code",
      "metadata": {
        "colab": {
          "base_uri": "https://localhost:8080/"
        },
        "id": "bYpyJpRGp11D",
        "outputId": "37c11df8-0b36-4809-9475-17a38b25dfe3"
      },
      "source": [
        "len(dataset_test)"
      ],
      "execution_count": null,
      "outputs": [
        {
          "output_type": "execute_result",
          "data": {
            "text/plain": [
              "228"
            ]
          },
          "metadata": {},
          "execution_count": 45
        }
      ]
    },
    {
      "cell_type": "markdown",
      "metadata": {
        "id": "YKazs7EKUJH7"
      },
      "source": [
        "# Results\n",
        "Visualization of the results using a lag of 1:\n",
        "\n",
        "\n"
      ]
    },
    {
      "cell_type": "code",
      "metadata": {
        "colab": {
          "base_uri": "https://localhost:8080/",
          "height": 513
        },
        "id": "CBC0k6-vMdn-",
        "outputId": "64ecdae2-16a0-441a-dd9f-524842769a0a"
      },
      "source": [
        "# Visualising the results\n",
        "plt.figure(figsize=(14,8))\n",
        "plt.plot(df.loc[1282:, \"Date\"],dataset_test.values, color = \"red\", label = \"Real Walmart Stock Price\")\n",
        "plt.plot(df.loc[1282:, \"Date\"],predicted_stock_price, color = \"blue\", label = \"Predicted Walmart Stock Price\")\n",
        "plt.xticks(np.arange(0,168,50))\n",
        "plt.title('Apple Stock Price Prediction')\n",
        "plt.xlabel('Time')\n",
        "plt.ylabel('Apple Stock Price')\n",
        "plt.legend()\n",
        "plt.show()\n"
      ],
      "execution_count": null,
      "outputs": [
        {
          "output_type": "display_data",
          "data": {
            "image/png": "[encoded data removed]",
            "text/plain": [
              "<Figure size 1008x576 with 1 Axes>"
            ]
          },
          "metadata": {
            "needs_background": "light"
          }
        }
      ]
    },
    {
      "cell_type": "code",
      "metadata": {
        "colab": {
          "base_uri": "https://localhost:8080/"
        },
        "id": "fglfC1XqrCfd",
        "outputId": "dcb41d63-c2c2-4a9c-b9ae-23dc012d7e80"
      },
      "source": [
        "print(\"Mean square error is \",sum((dataset_test.values-predicted_stock_price)**2)[0])"
      ],
      "execution_count": null,
      "outputs": [
        {
          "output_type": "stream",
          "name": "stdout",
          "text": [
            "Mean square error is  2588.703616044753\n"
          ]
        }
      ]
    },
    {
      "cell_type": "markdown",
      "metadata": {
        "id": "hdPWcsAaUsVZ"
      },
      "source": [
        "\n",
        "\n",
        "We can explicitly observe that our model performed well. It is able to follow most of the huge jumps/drops however, for the latest time stamps, we can observe that the model predicted lower values compared to the real values of the stock price."
      ]
    },
    {
      "cell_type": "markdown",
      "metadata": {
        "id": "1csLiLcyVoLp"
      },
      "source": [
        "**The initial selected lag in this article was 1 i.e. using a step of 1 day**. This can be easily changed by altering the code that builds the 3D inputs.\n",
        "Example: One can change the following 2 blocks of code:"
      ]
    },
    {
      "cell_type": "code",
      "metadata": {
        "id": "mWgwPNyZV3m5"
      },
      "source": [
        "dataset_test.values\n",
        "\n",
        "\n",
        "\n",
        "\n",
        "# Feature Scaling\n",
        "sc = MinMaxScaler(feature_range = (0, 1))\n",
        "training_set_scaled = sc.fit_transform(training_set)\n",
        "# Creating a data structure with 40 time-steps and 1 output\n",
        "X_train = []\n",
        "y_train = []\n",
        "for i in range(40, 1282):\n",
        "    X_train.append(training_set_scaled[i-40:i, 0])\n",
        "    y_train.append(training_set_scaled[i, 0])\n",
        "X_train, y_train = np.array(X_train), np.array(y_train)\n",
        "X_train = np.reshape(X_train, (X_train.shape[0], X_train.shape[1], 1))\n",
        "#(740, 50, 1)\n"
      ],
      "execution_count": null,
      "outputs": []
    },
    {
      "cell_type": "code",
      "metadata": {
        "colab": {
          "base_uri": "https://localhost:8080/"
        },
        "id": "aD7AlZwDYUe-",
        "outputId": "08900366-83ec-4654-cb45-f3c52e6bdf7d"
      },
      "source": [
        "model = Sequential()\n",
        "#Adding the first LSTM layer and some Dropout regularisation\n",
        "model.add(LSTM(units = 50, return_sequences = True, input_shape = (X_train.shape[1], 1)))\n",
        "model.add(Dropout(0.2))\n",
        "# Adding a second LSTM layer and some Dropout regularisation\n",
        "model.add(LSTM(units = 50, return_sequences = True))\n",
        "model.add(Dropout(0.2))\n",
        "# Adding a third LSTM layer and some Dropout regularisation\n",
        "model.add(LSTM(units = 50, return_sequences = True))\n",
        "model.add(Dropout(0.2))\n",
        "# Adding a fourth LSTM layer and some Dropout regularisation\n",
        "model.add(LSTM(units = 50))\n",
        "model.add(Dropout(0.2))\n",
        "# Adding the output layer\n",
        "model.add(Dense(units = 1))\n",
        "\n",
        "# Compiling the RNN\n",
        "model.compile(optimizer = 'adam', loss = 'mean_squared_error')\n",
        "\n",
        "# Fitting the RNN to the Training set\n",
        "model.fit(X_train, y_train, epochs = 100, batch_size = 32)"
      ],
      "execution_count": null,
      "outputs": [
        {
          "output_type": "stream",
          "name": "stdout",
          "text": [
            "Epoch 1/100\n",
            "39/39 [==============================] - 10s 88ms/step - loss: 0.0230\n",
            "Epoch 2/100\n",
            "39/39 [==============================] - 4s 90ms/step - loss: 0.0042\n",
            "Epoch 3/100\n",
            "39/39 [==============================] - 3s 89ms/step - loss: 0.0038\n",
            "Epoch 4/100\n",
            "39/39 [==============================] - 4s 90ms/step - loss: 0.0058\n",
            "Epoch 5/100\n",
            "39/39 [==============================] - 3s 89ms/step - loss: 0.0037\n",
            "Epoch 6/100\n",
            "39/39 [==============================] - 3s 88ms/step - loss: 0.0034\n",
            "Epoch 7/100\n",
            "39/39 [==============================] - 4s 91ms/step - loss: 0.0034\n",
            "Epoch 8/100\n",
            "39/39 [==============================] - 4s 93ms/step - loss: 0.0029\n",
            "Epoch 9/100\n",
            "39/39 [==============================] - 4s 91ms/step - loss: 0.0030\n",
            "Epoch 10/100\n",
            "39/39 [==============================] - 4s 90ms/step - loss: 0.0033\n",
            "Epoch 11/100\n",
            "39/39 [==============================] - 4s 92ms/step - loss: 0.0032\n",
            "Epoch 12/100\n",
            "39/39 [==============================] - 4s 96ms/step - loss: 0.0031\n",
            "Epoch 13/100\n",
            "39/39 [==============================] - 3s 89ms/step - loss: 0.0030\n",
            "Epoch 14/100\n",
            "39/39 [==============================] - 3s 89ms/step - loss: 0.0024\n",
            "Epoch 15/100\n",
            "39/39 [==============================] - 3s 87ms/step - loss: 0.0025\n",
            "Epoch 16/100\n",
            "39/39 [==============================] - 3s 89ms/step - loss: 0.0032\n",
            "Epoch 17/100\n",
            "39/39 [==============================] - 4s 91ms/step - loss: 0.0026\n",
            "Epoch 18/100\n",
            "39/39 [==============================] - 3s 89ms/step - loss: 0.0024\n",
            "Epoch 19/100\n",
            "39/39 [==============================] - 4s 91ms/step - loss: 0.0024\n",
            "Epoch 20/100\n",
            "39/39 [==============================] - 4s 90ms/step - loss: 0.0025\n",
            "Epoch 21/100\n",
            "39/39 [==============================] - 4s 90ms/step - loss: 0.0023\n",
            "Epoch 22/100\n",
            "39/39 [==============================] - 4s 90ms/step - loss: 0.0025\n",
            "Epoch 23/100\n",
            "39/39 [==============================] - 4s 91ms/step - loss: 0.0024\n",
            "Epoch 24/100\n",
            "39/39 [==============================] - 4s 91ms/step - loss: 0.0024\n",
            "Epoch 25/100\n",
            "39/39 [==============================] - 3s 89ms/step - loss: 0.0024\n",
            "Epoch 26/100\n",
            "39/39 [==============================] - 4s 91ms/step - loss: 0.0020\n",
            "Epoch 27/100\n",
            "39/39 [==============================] - 3s 89ms/step - loss: 0.0021\n",
            "Epoch 28/100\n",
            "39/39 [==============================] - 3s 88ms/step - loss: 0.0019\n",
            "Epoch 29/100\n",
            "39/39 [==============================] - 3s 88ms/step - loss: 0.0021\n",
            "Epoch 30/100\n",
            "39/39 [==============================] - 4s 90ms/step - loss: 0.0018\n",
            "Epoch 31/100\n",
            "39/39 [==============================] - 4s 92ms/step - loss: 0.0020\n",
            "Epoch 32/100\n",
            "39/39 [==============================] - 4s 91ms/step - loss: 0.0020\n",
            "Epoch 33/100\n",
            "39/39 [==============================] - 4s 91ms/step - loss: 0.0018\n",
            "Epoch 34/100\n",
            "39/39 [==============================] - 4s 90ms/step - loss: 0.0023\n",
            "Epoch 35/100\n",
            "39/39 [==============================] - 4s 90ms/step - loss: 0.0018\n",
            "Epoch 36/100\n",
            "39/39 [==============================] - 4s 92ms/step - loss: 0.0020\n",
            "Epoch 37/100\n",
            "39/39 [==============================] - 4s 90ms/step - loss: 0.0019\n",
            "Epoch 38/100\n",
            "39/39 [==============================] - 3s 88ms/step - loss: 0.0016\n",
            "Epoch 39/100\n",
            "39/39 [==============================] - 3s 89ms/step - loss: 0.0017\n",
            "Epoch 40/100\n",
            "39/39 [==============================] - 3s 89ms/step - loss: 0.0016\n",
            "Epoch 41/100\n",
            "39/39 [==============================] - 4s 90ms/step - loss: 0.0018\n",
            "Epoch 42/100\n",
            "39/39 [==============================] - 3s 89ms/step - loss: 0.0017\n",
            "Epoch 43/100\n",
            "39/39 [==============================] - 3s 89ms/step - loss: 0.0016\n",
            "Epoch 44/100\n",
            "39/39 [==============================] - 3s 88ms/step - loss: 0.0019\n",
            "Epoch 45/100\n",
            "39/39 [==============================] - 3s 89ms/step - loss: 0.0017\n",
            "Epoch 46/100\n",
            "39/39 [==============================] - 4s 90ms/step - loss: 0.0018\n",
            "Epoch 47/100\n",
            "39/39 [==============================] - 4s 91ms/step - loss: 0.0015\n",
            "Epoch 48/100\n",
            "39/39 [==============================] - 4s 90ms/step - loss: 0.0016\n",
            "Epoch 49/100\n",
            "39/39 [==============================] - 3s 89ms/step - loss: 0.0016\n",
            "Epoch 50/100\n",
            "39/39 [==============================] - 4s 90ms/step - loss: 0.0017\n",
            "Epoch 51/100\n",
            "39/39 [==============================] - 3s 89ms/step - loss: 0.0014\n",
            "Epoch 52/100\n",
            "39/39 [==============================] - 3s 89ms/step - loss: 0.0015\n",
            "Epoch 53/100\n",
            "39/39 [==============================] - 4s 90ms/step - loss: 0.0015\n",
            "Epoch 54/100\n",
            "39/39 [==============================] - 4s 90ms/step - loss: 0.0015\n",
            "Epoch 55/100\n",
            "39/39 [==============================] - 4s 92ms/step - loss: 0.0015\n",
            "Epoch 56/100\n",
            "39/39 [==============================] - 4s 90ms/step - loss: 0.0015\n",
            "Epoch 57/100\n",
            "39/39 [==============================] - 4s 91ms/step - loss: 0.0017\n",
            "Epoch 58/100\n",
            "39/39 [==============================] - 4s 93ms/step - loss: 0.0014\n",
            "Epoch 59/100\n",
            "39/39 [==============================] - 4s 90ms/step - loss: 0.0013\n",
            "Epoch 60/100\n",
            "39/39 [==============================] - 4s 90ms/step - loss: 0.0014\n",
            "Epoch 61/100\n",
            "39/39 [==============================] - 4s 92ms/step - loss: 0.0016\n",
            "Epoch 62/100\n",
            "39/39 [==============================] - 4s 91ms/step - loss: 0.0015\n",
            "Epoch 63/100\n",
            "39/39 [==============================] - 4s 93ms/step - loss: 0.0013\n",
            "Epoch 64/100\n",
            "39/39 [==============================] - 4s 92ms/step - loss: 0.0014\n",
            "Epoch 65/100\n",
            "39/39 [==============================] - 4s 91ms/step - loss: 0.0013\n",
            "Epoch 66/100\n",
            "39/39 [==============================] - 4s 91ms/step - loss: 0.0012\n",
            "Epoch 67/100\n",
            "39/39 [==============================] - 4s 94ms/step - loss: 0.0013\n",
            "Epoch 68/100\n",
            "39/39 [==============================] - 4s 94ms/step - loss: 0.0013\n",
            "Epoch 69/100\n",
            "39/39 [==============================] - 4s 94ms/step - loss: 0.0014\n",
            "Epoch 70/100\n",
            "39/39 [==============================] - 4s 92ms/step - loss: 0.0015\n",
            "Epoch 71/100\n",
            "39/39 [==============================] - 4s 93ms/step - loss: 0.0013\n",
            "Epoch 72/100\n",
            "39/39 [==============================] - 4s 93ms/step - loss: 0.0012\n",
            "Epoch 73/100\n",
            "39/39 [==============================] - 3s 90ms/step - loss: 0.0013\n",
            "Epoch 74/100\n",
            "39/39 [==============================] - 4s 91ms/step - loss: 0.0013\n",
            "Epoch 75/100\n",
            "39/39 [==============================] - 4s 94ms/step - loss: 0.0012\n",
            "Epoch 76/100\n",
            "39/39 [==============================] - 4s 92ms/step - loss: 0.0013\n",
            "Epoch 77/100\n",
            "39/39 [==============================] - 4s 91ms/step - loss: 0.0012\n",
            "Epoch 78/100\n",
            "39/39 [==============================] - 4s 90ms/step - loss: 0.0011\n",
            "Epoch 79/100\n",
            "39/39 [==============================] - 4s 91ms/step - loss: 0.0012\n",
            "Epoch 80/100\n",
            "39/39 [==============================] - 4s 90ms/step - loss: 0.0011\n",
            "Epoch 81/100\n",
            "39/39 [==============================] - 4s 91ms/step - loss: 0.0012\n",
            "Epoch 82/100\n",
            "39/39 [==============================] - 4s 90ms/step - loss: 0.0011\n",
            "Epoch 83/100\n",
            "39/39 [==============================] - 4s 91ms/step - loss: 0.0011\n",
            "Epoch 84/100\n",
            "39/39 [==============================] - 3s 88ms/step - loss: 0.0011\n",
            "Epoch 85/100\n",
            "39/39 [==============================] - 3s 89ms/step - loss: 0.0012\n",
            "Epoch 86/100\n",
            "39/39 [==============================] - 4s 90ms/step - loss: 0.0012\n",
            "Epoch 87/100\n",
            "39/39 [==============================] - 4s 91ms/step - loss: 0.0011\n",
            "Epoch 88/100\n",
            "39/39 [==============================] - 3s 89ms/step - loss: 0.0013\n",
            "Epoch 89/100\n",
            "39/39 [==============================] - 3s 89ms/step - loss: 0.0012\n",
            "Epoch 90/100\n",
            "39/39 [==============================] - 3s 89ms/step - loss: 0.0012\n",
            "Epoch 91/100\n",
            "39/39 [==============================] - 3s 88ms/step - loss: 0.0011\n",
            "Epoch 92/100\n",
            "39/39 [==============================] - 4s 91ms/step - loss: 0.0011\n",
            "Epoch 93/100\n",
            "39/39 [==============================] - 4s 91ms/step - loss: 0.0014\n",
            "Epoch 94/100\n",
            "39/39 [==============================] - 4s 90ms/step - loss: 0.0012\n",
            "Epoch 95/100\n",
            "39/39 [==============================] - 4s 90ms/step - loss: 0.0012\n",
            "Epoch 96/100\n",
            "39/39 [==============================] - 4s 90ms/step - loss: 0.0011\n",
            "Epoch 97/100\n",
            "39/39 [==============================] - 4s 90ms/step - loss: 0.0013\n",
            "Epoch 98/100\n",
            "39/39 [==============================] - 4s 92ms/step - loss: 0.0012\n",
            "Epoch 99/100\n",
            "39/39 [==============================] - 4s 92ms/step - loss: 0.0012\n",
            "Epoch 100/100\n",
            "39/39 [==============================] - 4s 91ms/step - loss: 9.5801e-04\n"
          ]
        },
        {
          "output_type": "execute_result",
          "data": {
            "text/plain": [
              "<keras.callbacks.History at 0x7fd2e38f5650>"
            ]
          },
          "metadata": {},
          "execution_count": 57
        }
      ]
    },
    {
      "cell_type": "code",
      "metadata": {
        "id": "GetTxjK1V6vt",
        "colab": {
          "base_uri": "https://localhost:8080/"
        },
        "outputId": "3868b34a-14f7-4bb7-b619-7fb25a9a46ae"
      },
      "source": [
        "# Getting the predicted stock price of 2021\n",
        "dataset_train = df.iloc[:1282, 4:5]\n",
        "dataset_test = df.iloc[1282:, 4:5]\n",
        "dataset_total = pd.concat((dataset_train, dataset_test), axis = 0)\n",
        "inputs = dataset_total[len(dataset_total) - len(dataset_test) - 60:].values\n",
        "inputs = inputs.reshape(-1,1)\n",
        "inputs = sc.transform(inputs)\n",
        "X_test = []\n",
        "y_test = []\n",
        "for i in range(40, 268):\n",
        "    X_test.append(inputs[i-40:i, 0])\n",
        "X_test = np.array(X_test)\n",
        "X_test = np.reshape(X_test, (X_test.shape[0], X_test.shape[1], 1))\n",
        "print(X_test.shape)\n",
        "# (459, 60, 1)\n",
        "\n",
        "\n"
      ],
      "execution_count": null,
      "outputs": [
        {
          "output_type": "stream",
          "name": "stdout",
          "text": [
            "(228, 40, 1)\n"
          ]
        }
      ]
    },
    {
      "cell_type": "code",
      "metadata": {
        "id": "aaL6jmp3WHAh"
      },
      "source": [
        "predicted_stock_price = model.predict(X_test)\n",
        "predicted_stock_price = sc.inverse_transform(predicted_stock_price)"
      ],
      "execution_count": null,
      "outputs": []
    },
    {
      "cell_type": "code",
      "metadata": {
        "id": "yy0DWYnVtnqr"
      },
      "source": [
        ""
      ],
      "execution_count": null,
      "outputs": []
    },
    {
      "cell_type": "code",
      "metadata": {
        "colab": {
          "base_uri": "https://localhost:8080/",
          "height": 513
        },
        "id": "wwmWtHPLYuuN",
        "outputId": "c221d35b-9b6f-40e2-c7e1-e6f1df8d39a4"
      },
      "source": [
        "# Visualising the results\n",
        "plt.figure(figsize=(14,8))\n",
        "plt.plot(df.loc[1282:, \"Date\"],dataset_test.values, color = \"red\", label = \"Real Walmart Stock Price\")\n",
        "plt.plot(df.loc[1282:, \"Date\"],predicted_stock_price, color = \"blue\", label = \"Predicted Walmart Stock Price\")\n",
        "plt.xticks(np.arange(0,168,50))\n",
        "plt.title('Apple Stock Price Prediction')\n",
        "plt.xlabel('Time')\n",
        "plt.ylabel('Apple Stock Price')\n",
        "plt.legend()\n",
        "plt.show()\n"
      ],
      "execution_count": null,
      "outputs": [
        {
          "output_type": "display_data",
          "data": {
            "image/png": "[encoded data removed]",
            "text/plain": [
              "<Figure size 1008x576 with 1 Axes>"
            ]
          },
          "metadata": {
            "needs_background": "light"
          }
        }
      ]
    },
    {
      "cell_type": "code",
      "metadata": {
        "id": "cVzLTDBhYxQl",
        "colab": {
          "base_uri": "https://localhost:8080/"
        },
        "outputId": "39fb5874-c77d-4b03-ea76-c0d0accbb9e7"
      },
      "source": [
        "print(\"Mean square error is \",sum((dataset_test.values-predicted_stock_price)**2)[0])"
      ],
      "execution_count": null,
      "outputs": [
        {
          "output_type": "stream",
          "name": "stdout",
          "text": [
            "Mean square error is  9764.617188866228\n"
          ]
        }
      ]
    },
    {
      "cell_type": "code",
      "metadata": {
        "id": "-dR9PUVht_5P"
      },
      "source": [
        ""
      ],
      "execution_count": null,
      "outputs": []
    }
  ]
}